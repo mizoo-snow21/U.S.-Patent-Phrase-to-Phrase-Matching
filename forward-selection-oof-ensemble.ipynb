{
 "cells": [
  {
   "cell_type": "markdown",
   "metadata": {
    "papermill": {
     "duration": 0.008306,
     "end_time": "2020-08-18T18:42:49.777058",
     "exception": false,
     "start_time": "2020-08-18T18:42:49.768752",
     "status": "completed"
    },
    "tags": []
   },
   "source": [
    "# How To Ensemble OOF\n",
    "In this notebook, we learn how to use `forward selection` to ensemble OOF. First build lots of models using the same KFolds (i.e. use same `seed`). Next save all the oof files as `oof_XX.csv` and submission files as `sub_XX.csv` where the oof and submission share the same `XX` number. Then save them in a Kaggle dataset and run the code below.\n",
    "\n",
    "The ensemble begins with the model of highest oof AUC. Next each other model is added one by one to see which additional model increases ensemble AUC the most. The best additional model is kept and the process is repeated until the ensemble AUC doesn't increase."
   ]
  },
  {
   "cell_type": "code",
   "execution_count": 13,
   "metadata": {
    "_cell_guid": "b1076dfc-b9ad-4769-8c92-a6c4dae69d19",
    "_uuid": "8f2839f25d086af736a60e9eeb907d3b93b6e0e5",
    "execution": {
     "iopub.execute_input": "2020-08-18T18:42:49.809251Z",
     "iopub.status.busy": "2020-08-18T18:42:49.808479Z",
     "iopub.status.idle": "2020-08-18T18:42:51.021303Z",
     "shell.execute_reply": "2020-08-18T18:42:51.020404Z"
    },
    "papermill": {
     "duration": 1.225243,
     "end_time": "2020-08-18T18:42:51.021496",
     "exception": false,
     "start_time": "2020-08-18T18:42:49.796253",
     "status": "completed"
    },
    "tags": []
   },
   "outputs": [],
   "source": [
    "import pandas as pd, numpy as np, os\n",
    "import matplotlib.pyplot as plt\n",
    "import seaborn as sns"
   ]
  },
  {
   "cell_type": "code",
   "execution_count": 14,
   "metadata": {
    "execution": {
     "iopub.execute_input": "2020-08-18T18:42:51.044872Z",
     "iopub.status.busy": "2020-08-18T18:42:51.043978Z",
     "iopub.status.idle": "2020-08-18T18:42:52.807034Z",
     "shell.execute_reply": "2020-08-18T18:42:52.806033Z"
    },
    "papermill": {
     "duration": 1.777005,
     "end_time": "2020-08-18T18:42:52.807224",
     "exception": false,
     "start_time": "2020-08-18T18:42:51.030219",
     "status": "completed"
    },
    "tags": []
   },
   "outputs": [
    {
     "name": "stdout",
     "output_type": "stream",
     "text": [
      "We have 11 oof files...\n",
      "\n",
      "['oof_1dcnn.pkl' 'oof_2dcnn.pkl' 'oof_df-simcse-anchor.pkl'\n",
      " 'oof_df_bfp_anchor.pkl' 'oof_df_deberta_l_v3_anchor.pkl'\n",
      " 'oof_df_electora-anchor.pkl' 'oof_df_funnel_l_anchor.pkl'\n",
      " 'oof_df_pfp64_anchor.pkl' 'oof_lgbm.pkl' 'oof_mlp.pkl' 'oof_wop.pkl']\n"
     ]
    }
   ],
   "source": [
    "PATH = 'pppm/'\n",
    "FILES = os.listdir(PATH)\n",
    "\n",
    "OOF = np.sort( [f for f in FILES if 'oof' in f] )\n",
    "OOF_CSV = [pd.read_pickle(PATH+k).sort_values('id') for k in OOF]\n",
    "\n",
    "print('We have %i oof files...'%len(OOF))\n",
    "print(); print(OOF)"
   ]
  },
  {
   "cell_type": "code",
   "execution_count": 16,
   "metadata": {},
   "outputs": [],
   "source": [
    "import scipy as sp\n",
    "def get_score(y_true, y_pred):\n",
    "    score = sp.stats.pearsonr(y_true, y_pred)[0]\n",
    "    return score"
   ]
  },
  {
   "cell_type": "code",
   "execution_count": 17,
   "metadata": {
    "execution": {
     "iopub.execute_input": "2020-08-18T18:42:52.833096Z",
     "iopub.status.busy": "2020-08-18T18:42:52.832236Z",
     "iopub.status.idle": "2020-08-18T18:42:52.870339Z",
     "shell.execute_reply": "2020-08-18T18:42:52.869542Z"
    },
    "papermill": {
     "duration": 0.056189,
     "end_time": "2020-08-18T18:42:52.870478",
     "exception": false,
     "start_time": "2020-08-18T18:42:52.814289",
     "status": "completed"
    },
    "tags": []
   },
   "outputs": [],
   "source": [
    "x = np.zeros(( len(OOF_CSV[0]),len(OOF) ))\n",
    "for k in range(len(OOF)):\n",
    "    x[:,k] = OOF_CSV[k].pred.values\n",
    "\n",
    "    \n",
    "TRUE = OOF_CSV[0].score.values"
   ]
  },
  {
   "cell_type": "code",
   "execution_count": 18,
   "metadata": {
    "execution": {
     "iopub.execute_input": "2020-08-18T18:42:52.892075Z",
     "iopub.status.busy": "2020-08-18T18:42:52.891241Z",
     "iopub.status.idle": "2020-08-18T18:42:53.408803Z",
     "shell.execute_reply": "2020-08-18T18:42:53.409470Z"
    },
    "papermill": {
     "duration": 0.532698,
     "end_time": "2020-08-18T18:42:53.409697",
     "exception": false,
     "start_time": "2020-08-18T18:42:52.876999",
     "status": "completed"
    },
    "tags": []
   },
   "outputs": [
    {
     "name": "stdout",
     "output_type": "stream",
     "text": [
      "Model oof_1dcnn.pkl has score = 0.8543\n",
      "Model oof_2dcnn.pkl has score = 0.8541\n",
      "Model oof_df-simcse-anchor.pkl has score = 0.8133\n",
      "Model oof_df_bfp_anchor.pkl has score = 0.8195\n",
      "Model oof_df_deberta_l_v3_anchor.pkl has score = 0.8273\n",
      "Model oof_df_electora-anchor.pkl has score = 0.8288\n",
      "Model oof_df_funnel_l_anchor.pkl has score = 0.8188\n",
      "Model oof_df_pfp64_anchor.pkl has score = 0.8208\n",
      "Model oof_lgbm.pkl has score = 0.8530\n",
      "Model oof_mlp.pkl has score = 0.8543\n",
      "Model oof_wop.pkl has score = 0.8530\n"
     ]
    }
   ],
   "source": [
    "all = []\n",
    "for k in range(x.shape[1]):\n",
    "    #print(OOF_CSV[0].Pawpularity)\n",
    "    #print(x[:,k])\n",
    "    auc = get_score(OOF_CSV[0].score,x[:,k])\n",
    "    all.append(auc)\n",
    "    print('Model ' + OOF[k] + ' has score = %.4f'%(auc))\n",
    "    \n",
    "m = [np.argmax(all)]; w = []"
   ]
  },
  {
   "cell_type": "markdown",
   "metadata": {
    "papermill": {
     "duration": 0.006775,
     "end_time": "2020-08-18T18:42:53.425409",
     "exception": false,
     "start_time": "2020-08-18T18:42:53.418634",
     "status": "completed"
    },
    "tags": []
   },
   "source": [
    "# Build OOF Ensemble. Maximize CV Score"
   ]
  },
  {
   "cell_type": "code",
   "execution_count": 19,
   "metadata": {
    "execution": {
     "iopub.execute_input": "2020-08-18T18:42:53.460000Z",
     "iopub.status.busy": "2020-08-18T18:42:53.459171Z",
     "iopub.status.idle": "2020-08-18T18:44:38.394414Z",
     "shell.execute_reply": "2020-08-18T18:44:38.393538Z"
    },
    "papermill": {
     "duration": 104.962146,
     "end_time": "2020-08-18T18:44:38.394570",
     "exception": false,
     "start_time": "2020-08-18T18:42:53.432424",
     "status": "completed"
    },
    "tags": []
   },
   "outputs": [
    {
     "name": "stdout",
     "output_type": "stream",
     "text": [
      "Ensemble AUC = 0.8543 by beginning with model 0\n",
      "\n",
      "Searching for best model to add... \n",
      "0 , 1 , 2 , 3 , 4 , 5 , 6 , 7 , 8 , 9 , 10 , \n",
      "No increase. Stopping.\n"
     ]
    }
   ],
   "source": [
    "old = np.max(all); \n",
    "\n",
    "RES = 200; \n",
    "PATIENCE = 10; \n",
    "TOL = 0.0003\n",
    "DUPLICATES = False\n",
    "\n",
    "print('Ensemble AUC = %.4f by beginning with model %i'%(old,m[0]))\n",
    "print()\n",
    "\n",
    "for kk in range(len(OOF)):\n",
    "    \n",
    "    # BUILD CURRENT ENSEMBLE\n",
    "    md = x[:,m[0]]\n",
    "    for i,k in enumerate(m[1:]):\n",
    "        md = w[i]*x[:,k] + (1-w[i])*md\n",
    "        \n",
    "    # FIND MODEL TO ADD\n",
    "    mx = 0; mx_k = 0; mx_w = 0\n",
    "    print('Searching for best model to add... ')\n",
    "    \n",
    "    # TRY ADDING EACH MODEL\n",
    "    for k in range(x.shape[1]):\n",
    "        print(k,', ',end='')\n",
    "        if not DUPLICATES and (k in m): continue\n",
    "            \n",
    "        # EVALUATE ADDING MODEL K WITH WEIGHTS W\n",
    "        bst_j = 0; bst = 0; ct = 0\n",
    "        for j in range(RES):\n",
    "            tmp = j/RES*x[:,k] + (1-j/RES)*md\n",
    "            auc = get_score(TRUE,tmp)\n",
    "            if auc>bst:\n",
    "                bst = auc\n",
    "                bst_j = j/RES\n",
    "            else: ct += 1\n",
    "            if ct>PATIENCE: break\n",
    "        if bst>mx:\n",
    "            mx = bst\n",
    "            mx_k = k\n",
    "            mx_w = bst_j\n",
    "            \n",
    "    # STOP IF INCREASE IS LESS THAN TOL\n",
    "    inc = mx-old\n",
    "    if inc<=TOL: \n",
    "        print(); print('No increase. Stopping.')\n",
    "        break\n",
    "        \n",
    "    # DISPLAY RESULTS\n",
    "    print(); #print(kk,mx,mx_k,mx_w,'%.5f'%inc)\n",
    "    print('Ensemble AUC = %.4f after adding model %i with weight %.3f. Increase of %.4f'%(mx,mx_k,mx_w,inc))\n",
    "    print()\n",
    "    \n",
    "    old = mx; m.append(mx_k); w.append(mx_w)"
   ]
  },
  {
   "cell_type": "code",
   "execution_count": 20,
   "metadata": {
    "execution": {
     "iopub.execute_input": "2020-08-18T18:44:38.441473Z",
     "iopub.status.busy": "2020-08-18T18:44:38.440644Z",
     "iopub.status.idle": "2020-08-18T18:44:38.444502Z",
     "shell.execute_reply": "2020-08-18T18:44:38.445151Z"
    },
    "papermill": {
     "duration": 0.030695,
     "end_time": "2020-08-18T18:44:38.445348",
     "exception": false,
     "start_time": "2020-08-18T18:44:38.414653",
     "status": "completed"
    },
    "tags": []
   },
   "outputs": [
    {
     "name": "stdout",
     "output_type": "stream",
     "text": [
      "We are using models ['oof_1dcnn.pkl']\n",
      "with weights []\n",
      "and achieve ensemble RMSE = 0.854318\n"
     ]
    }
   ],
   "source": [
    "print('We are using models',OOF[m])\n",
    "print('with weights',w)\n",
    "print('and achieve ensemble RMSE = %.6f'%old)"
   ]
  },
  {
   "cell_type": "code",
   "execution_count": 21,
   "metadata": {
    "execution": {
     "iopub.execute_input": "2020-08-18T18:44:38.494492Z",
     "iopub.status.busy": "2020-08-18T18:44:38.493604Z",
     "iopub.status.idle": "2020-08-18T18:44:38.935400Z",
     "shell.execute_reply": "2020-08-18T18:44:38.934738Z"
    },
    "papermill": {
     "duration": 0.46954,
     "end_time": "2020-08-18T18:44:38.935548",
     "exception": false,
     "start_time": "2020-08-18T18:44:38.466008",
     "status": "completed"
    },
    "tags": []
   },
   "outputs": [
    {
     "data": {
      "image/png": "[encoded data removed]",
      "text/plain": [
       "<Figure size 432x288 with 1 Axes>"
      ]
     },
     "metadata": {
      "needs_background": "light"
     },
     "output_type": "display_data"
    }
   ],
   "source": [
    "md = x[:,m[0]]\n",
    "for i,k in enumerate(m[1:]):\n",
    "    md = w[i]*x[:,k] + (1-w[i])*md\n",
    "plt.hist(md,bins=100)\n",
    "plt.title('Ensemble OOF predictions')\n",
    "plt.show()"
   ]
  },
  {
   "cell_type": "code",
   "execution_count": 22,
   "metadata": {},
   "outputs": [],
   "source": [
    "def _upd_score_between(data, thresholds, value):\n",
    "    \"\"\"\\o/\"\"\"\n",
    "    mask_th = data.between(*thresholds, inclusive='both')\n",
    "    data[mask_th] = value\n",
    "\n",
    "\n",
    "def upd_score(data, th_dict=None):\n",
    "    \"\"\"\\o/\"\"\"\n",
    "    if isinstance(data, pd.Series):\n",
    "        result = data.copy()\n",
    "    else:\n",
    "        return data\n",
    "\n",
    "    if not th_dict:        \n",
    "        th_dict = {\n",
    "            '0': 0.02,\n",
    "            '.25': (0.25, 0.27),\n",
    "            '.50': (0.50, 0.52),\n",
    "            '.75': (0.75, 0.77),\n",
    "            '1': 0.98\n",
    "        }\n",
    "\n",
    "    if isinstance(th_dict, dict):    \n",
    "        th0 = th_dict.get('0')\n",
    "        th25 = th_dict.get('.25')\n",
    "        th50 = th_dict.get('.50')\n",
    "        th75 = th_dict.get('.75')\n",
    "        th100 = th_dict.get('1')\n",
    "    else:\n",
    "        return data\n",
    "\n",
    "    if th0:\n",
    "        if isinstance(th0, float):\n",
    "            th0 = (result.min(), th0)\n",
    "        \n",
    "        if isinstance(th0, tuple):\n",
    "            _upd_score_between(result, th0, 0)\n",
    "    \n",
    "    if th25 and isinstance(th25, tuple):\n",
    "        _upd_score_between(result, th25, 0.25)\n",
    "    \n",
    "    if th50 and isinstance(th50, tuple):\n",
    "        _upd_score_between(result, th50, 0.50)\n",
    "            \n",
    "    if th75 and isinstance(th75, tuple):\n",
    "        _upd_score_between(result, th75, 0.75)\n",
    "            \n",
    "    if th100:\n",
    "        if isinstance(th100, float):\n",
    "            th100 = (th100, result.max())\n",
    "        \n",
    "        if isinstance(th100, tuple):\n",
    "            _upd_score_between(result, th100, 1)\n",
    "\n",
    "    return result"
   ]
  },
  {
   "cell_type": "code",
   "execution_count": 26,
   "metadata": {},
   "outputs": [
    {
     "data": {
      "text/plain": [
       "array([0.31331754, 0.40050915, 0.25624415, ..., 0.00538167, 0.00615615,\n",
       "       0.36896196])"
      ]
     },
     "execution_count": 26,
     "metadata": {},
     "output_type": "execute_result"
    }
   ],
   "source": [
    "md"
   ]
  },
  {
   "cell_type": "code",
   "execution_count": 29,
   "metadata": {},
   "outputs": [
    {
     "data": {
      "text/plain": [
       "array([0.37598104, 0.48061098, 0.30749298, ..., 0.00645801, 0.00738738,\n",
       "       0.44275435])"
      ]
     },
     "execution_count": 29,
     "metadata": {},
     "output_type": "execute_result"
    }
   ],
   "source": [
    "md*1.2"
   ]
  },
  {
   "cell_type": "code",
   "execution_count": 31,
   "metadata": {},
   "outputs": [
    {
     "name": "stdout",
     "output_type": "stream",
     "text": [
      "0.8543179857269517\n"
     ]
    }
   ],
   "source": [
    "auc = get_score(TRUE,md*1.5)\n",
    "print(auc)"
   ]
  },
  {
   "cell_type": "code",
   "execution_count": 32,
   "metadata": {},
   "outputs": [
    {
     "data": {
      "image/png": "[encoded data removed]",
      "text/plain": [
       "<Figure size 432x288 with 1 Axes>"
      ]
     },
     "metadata": {
      "needs_background": "light"
     },
     "output_type": "display_data"
    }
   ],
   "source": [
    "plt.hist((TRUE,md*1.2),bins=100)\n",
    "plt.title('Ensemble OOF predictions')\n",
    "plt.show()"
   ]
  },
  {
   "cell_type": "code",
   "execution_count": null,
   "metadata": {
    "execution": {
     "iopub.execute_input": "2020-08-18T18:44:38.983037Z",
     "iopub.status.busy": "2020-08-18T18:44:38.982260Z",
     "iopub.status.idle": "2020-08-18T18:44:39.267461Z",
     "shell.execute_reply": "2020-08-18T18:44:39.266499Z"
    },
    "papermill": {
     "duration": 0.311663,
     "end_time": "2020-08-18T18:44:39.267620",
     "exception": false,
     "start_time": "2020-08-18T18:44:38.955957",
     "status": "completed"
    },
    "tags": []
   },
   "outputs": [],
   "source": [
    "df = OOF_CSV[0].copy()\n",
    "df.pred = md\n",
    "df.to_csv('ensemble_oof_m_j.csv',index=False)"
   ]
  },
  {
   "cell_type": "markdown",
   "metadata": {
    "papermill": {
     "duration": 0.020021,
     "end_time": "2020-08-18T18:44:39.308076",
     "exception": false,
     "start_time": "2020-08-18T18:44:39.288055",
     "status": "completed"
    },
    "tags": []
   },
   "source": [
    "# Load SUB Files"
   ]
  },
  {
   "cell_type": "code",
   "execution_count": null,
   "metadata": {
    "execution": {
     "iopub.execute_input": "2020-08-18T18:44:39.359348Z",
     "iopub.status.busy": "2020-08-18T18:44:39.358536Z",
     "iopub.status.idle": "2020-08-18T18:44:40.002409Z",
     "shell.execute_reply": "2020-08-18T18:44:40.001126Z"
    },
    "papermill": {
     "duration": 0.673444,
     "end_time": "2020-08-18T18:44:40.002618",
     "exception": false,
     "start_time": "2020-08-18T18:44:39.329174",
     "status": "completed"
    },
    "tags": []
   },
   "outputs": [],
   "source": [
    "SUB = np.sort( [f for f in FILES if 'sub' in f] )\n",
    "SUB_CSV = [pd.read_csv(PATH+k) for k in SUB]\n",
    "\n",
    "print('We have %i submission files...'%len(SUB))\n",
    "print(); print(SUB)"
   ]
  },
  {
   "cell_type": "code",
   "execution_count": null,
   "metadata": {
    "execution": {
     "iopub.execute_input": "2020-08-18T18:44:40.056096Z",
     "iopub.status.busy": "2020-08-18T18:44:40.055043Z",
     "iopub.status.idle": "2020-08-18T18:44:40.058527Z",
     "shell.execute_reply": "2020-08-18T18:44:40.057596Z"
    },
    "papermill": {
     "duration": 0.03416,
     "end_time": "2020-08-18T18:44:40.058720",
     "exception": false,
     "start_time": "2020-08-18T18:44:40.024560",
     "status": "completed"
    },
    "tags": []
   },
   "outputs": [],
   "source": [
    "# VERFIY THAT SUBMISSION FILES MATCH OOF FILES\n",
    "a = np.array( [ int( x.split('_')[-1].split('.')[0]) for x in SUB ] )\n",
    "b = np.array( [ int( x.split('_')[-1].split('.')[0]) for x in OOF ] )\n",
    "if len(a)!=len(b):\n",
    "    print('ERROR submission files dont match oof files')\n",
    "else:\n",
    "    for k in range(len(a)):\n",
    "        if a[k]!=b[k]: print('ERROR submission files dont match oof files')"
   ]
  },
  {
   "cell_type": "code",
   "execution_count": null,
   "metadata": {
    "execution": {
     "iopub.execute_input": "2020-08-18T18:44:40.109355Z",
     "iopub.status.busy": "2020-08-18T18:44:40.108124Z",
     "iopub.status.idle": "2020-08-18T18:44:40.125188Z",
     "shell.execute_reply": "2020-08-18T18:44:40.124473Z"
    },
    "papermill": {
     "duration": 0.045533,
     "end_time": "2020-08-18T18:44:40.125346",
     "exception": false,
     "start_time": "2020-08-18T18:44:40.079813",
     "status": "completed"
    },
    "tags": []
   },
   "outputs": [],
   "source": [
    "y = np.zeros(( len(SUB_CSV[0]),len(SUB) ))\n",
    "for k in range(len(SUB)):\n",
    "    y[:,k] = SUB_CSV[k].target.values"
   ]
  },
  {
   "cell_type": "markdown",
   "metadata": {
    "papermill": {
     "duration": 0.020245,
     "end_time": "2020-08-18T18:44:40.166408",
     "exception": false,
     "start_time": "2020-08-18T18:44:40.146163",
     "status": "completed"
    },
    "tags": []
   },
   "source": [
    "# Build SUB Ensemble"
   ]
  },
  {
   "cell_type": "code",
   "execution_count": null,
   "metadata": {
    "execution": {
     "iopub.execute_input": "2020-08-18T18:44:40.216774Z",
     "iopub.status.busy": "2020-08-18T18:44:40.215952Z",
     "iopub.status.idle": "2020-08-18T18:44:40.682433Z",
     "shell.execute_reply": "2020-08-18T18:44:40.681761Z"
    },
    "papermill": {
     "duration": 0.495021,
     "end_time": "2020-08-18T18:44:40.682583",
     "exception": false,
     "start_time": "2020-08-18T18:44:40.187562",
     "status": "completed"
    },
    "tags": []
   },
   "outputs": [],
   "source": [
    "md2 = y[:,m[0]]\n",
    "for i,k in enumerate(m[1:]):\n",
    "    md2 = w[i]*y[:,k] + (1-w[i])*md2\n",
    "plt.hist(md2,bins=100)\n",
    "plt.show()"
   ]
  },
  {
   "cell_type": "code",
   "execution_count": null,
   "metadata": {
    "execution": {
     "iopub.execute_input": "2020-08-18T18:44:40.734138Z",
     "iopub.status.busy": "2020-08-18T18:44:40.733251Z",
     "iopub.status.idle": "2020-08-18T18:44:40.790929Z",
     "shell.execute_reply": "2020-08-18T18:44:40.791648Z"
    },
    "papermill": {
     "duration": 0.087869,
     "end_time": "2020-08-18T18:44:40.791867",
     "exception": false,
     "start_time": "2020-08-18T18:44:40.703998",
     "status": "completed"
    },
    "tags": []
   },
   "outputs": [],
   "source": [
    "df = SUB_CSV[0].copy()\n",
    "df.target = md2\n",
    "df.to_csv('ensemble_subv2.csv',index=False)"
   ]
  },
  {
   "cell_type": "code",
   "execution_count": null,
   "metadata": {},
   "outputs": [],
   "source": []
  }
 ],
 "metadata": {
  "environment": {
   "name": "pytorch-gpu.1-9.m75",
   "type": "gcloud",
   "uri": "gcr.io/deeplearning-platform-release/pytorch-gpu.1-9:m75"
  },
  "interpreter": {
   "hash": "a077222d77dfe082b8f1dd562ad70e458ac2ab76993a0b248ab0476e32e9e8dd"
  },
  "kernelspec": {
   "display_name": "Python 3.8.8 ('base')",
   "language": "python",
   "name": "python3"
  },
  "language_info": {
   "codemirror_mode": {
    "name": "ipython",
    "version": 3
   },
   "file_extension": ".py",
   "mimetype": "text/x-python",
   "name": "python",
   "nbconvert_exporter": "python",
   "pygments_lexer": "ipython3",
   "version": "3.8.8"
  },
  "papermill": {
   "duration": 116.576323,
   "end_time": "2020-08-18T18:44:40.923814",
   "environment_variables": {},
   "exception": null,
   "input_path": "__notebook__.ipynb",
   "output_path": "__notebook__.ipynb",
   "parameters": {},
   "start_time": "2020-08-18T18:42:44.347491",
   "version": "2.1.0"
  }
 },
 "nbformat": 4,
 "nbformat_minor": 4
}
